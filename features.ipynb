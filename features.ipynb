{
 "metadata": {
  "language_info": {
   "codemirror_mode": {
    "name": "ipython",
    "version": 3
   },
   "file_extension": ".py",
   "mimetype": "text/x-python",
   "name": "python",
   "nbconvert_exporter": "python",
   "pygments_lexer": "ipython3",
   "version": "3.7.10"
  },
  "orig_nbformat": 2,
  "kernelspec": {
   "name": "python3710jvsc74a57bd07dfe34d8d2e62d683bd2f5d5f951b11e9760267beabc84ae9782542716d19175",
   "display_name": "Python 3.7.10 64-bit ('myenv': conda)"
  }
 },
 "nbformat": 4,
 "nbformat_minor": 2,
 "cells": [
  {
   "cell_type": "code",
   "execution_count": 13,
   "metadata": {},
   "outputs": [
    {
     "output_type": "execute_result",
     "data": {
      "text/plain": [
       "'1.2.3'"
      ]
     },
     "metadata": {},
     "execution_count": 13
    }
   ],
   "source": [
    "import pandas as pd \n",
    "pd.__version__\n"
   ]
  },
  {
   "cell_type": "code",
   "execution_count": 14,
   "metadata": {},
   "outputs": [
    {
     "output_type": "execute_result",
     "data": {
      "text/plain": [
       "'0.4.8'"
      ]
     },
     "metadata": {},
     "execution_count": 14
    }
   ],
   "source": [
    "import yake\n",
    "yake.__version__"
   ]
  },
  {
   "cell_type": "code",
   "execution_count": 15,
   "metadata": {},
   "outputs": [
    {
     "output_type": "execute_result",
     "data": {
      "text/plain": [
       "  release.resource release.version table          name  \\\n",
       "0        LifeCycle           1.0.0  core       FEF75_z   \n",
       "1        LifeCycle           1.0.0  core  abroad_child   \n",
       "2        LifeCycle           1.0.0  core     abroad_fa   \n",
       "\n",
       "   collectionEvent.resource  collectionEvent.name  \\\n",
       "0                       NaN                   NaN   \n",
       "1                       NaN                   NaN   \n",
       "2                       NaN                   NaN   \n",
       "\n",
       "                                               label      format  unit  \\\n",
       "0  Forced Expiratory Flow after exhaling 75% of F...  continuous   NaN   \n",
       "1                                Child's born abroad     boolean   NaN   \n",
       "2                               Father's born abroad     boolean   NaN   \n",
       "\n",
       "   references.table  references.name  mandatory  description  order  \\\n",
       "0               NaN              NaN        NaN          NaN    NaN   \n",
       "1               NaN              NaN        NaN          NaN    NaN   \n",
       "2               NaN              NaN        NaN          NaN    NaN   \n",
       "\n",
       "   exampleValues                                           keywords  \\\n",
       "0            NaN  child_healthchar_resp_lungfunc_spirometry_fef7...   \n",
       "1            NaN                         aaaac2ipjyxw36qwhza7xqiaae   \n",
       "2            NaN                         aaaaczochh3bp6qwhycgrlaaae   \n",
       "\n",
       "   vocabularies  \n",
       "0           NaN  \n",
       "1           NaN  \n",
       "2           NaN  "
      ],
      "text/html": "<div>\n<style scoped>\n    .dataframe tbody tr th:only-of-type {\n        vertical-align: middle;\n    }\n\n    .dataframe tbody tr th {\n        vertical-align: top;\n    }\n\n    .dataframe thead th {\n        text-align: right;\n    }\n</style>\n<table border=\"1\" class=\"dataframe\">\n  <thead>\n    <tr style=\"text-align: right;\">\n      <th></th>\n      <th>release.resource</th>\n      <th>release.version</th>\n      <th>table</th>\n      <th>name</th>\n      <th>collectionEvent.resource</th>\n      <th>collectionEvent.name</th>\n      <th>label</th>\n      <th>format</th>\n      <th>unit</th>\n      <th>references.table</th>\n      <th>references.name</th>\n      <th>mandatory</th>\n      <th>description</th>\n      <th>order</th>\n      <th>exampleValues</th>\n      <th>keywords</th>\n      <th>vocabularies</th>\n    </tr>\n  </thead>\n  <tbody>\n    <tr>\n      <th>0</th>\n      <td>LifeCycle</td>\n      <td>1.0.0</td>\n      <td>core</td>\n      <td>FEF75_z</td>\n      <td>NaN</td>\n      <td>NaN</td>\n      <td>Forced Expiratory Flow after exhaling 75% of F...</td>\n      <td>continuous</td>\n      <td>NaN</td>\n      <td>NaN</td>\n      <td>NaN</td>\n      <td>NaN</td>\n      <td>NaN</td>\n      <td>NaN</td>\n      <td>NaN</td>\n      <td>child_healthchar_resp_lungfunc_spirometry_fef7...</td>\n      <td>NaN</td>\n    </tr>\n    <tr>\n      <th>1</th>\n      <td>LifeCycle</td>\n      <td>1.0.0</td>\n      <td>core</td>\n      <td>abroad_child</td>\n      <td>NaN</td>\n      <td>NaN</td>\n      <td>Child's born abroad</td>\n      <td>boolean</td>\n      <td>NaN</td>\n      <td>NaN</td>\n      <td>NaN</td>\n      <td>NaN</td>\n      <td>NaN</td>\n      <td>NaN</td>\n      <td>NaN</td>\n      <td>aaaac2ipjyxw36qwhza7xqiaae</td>\n      <td>NaN</td>\n    </tr>\n    <tr>\n      <th>2</th>\n      <td>LifeCycle</td>\n      <td>1.0.0</td>\n      <td>core</td>\n      <td>abroad_fa</td>\n      <td>NaN</td>\n      <td>NaN</td>\n      <td>Father's born abroad</td>\n      <td>boolean</td>\n      <td>NaN</td>\n      <td>NaN</td>\n      <td>NaN</td>\n      <td>NaN</td>\n      <td>NaN</td>\n      <td>NaN</td>\n      <td>NaN</td>\n      <td>aaaaczochh3bp6qwhycgrlaaae</td>\n      <td>NaN</td>\n    </tr>\n  </tbody>\n</table>\n</div>"
     },
     "metadata": {},
     "execution_count": 15
    }
   ],
   "source": [
    "## load the data\n",
    "allData = pd.read_csv('variables.csv')\n",
    "allData.head(3)\n"
   ]
  },
  {
   "cell_type": "code",
   "execution_count": 16,
   "metadata": {},
   "outputs": [
    {
     "output_type": "execute_result",
     "data": {
      "text/plain": [
       "'Forced Expiratory Flow after exhaling 75% of FVC, z-score according to GLI reference criteria within one year of birth (child aged between >-1 year and <1 year)'"
      ]
     },
     "metadata": {},
     "execution_count": 16
    }
   ],
   "source": [
    "labels = allData['label'].tolist()\n",
    "labels[0]"
   ]
  },
  {
   "cell_type": "code",
   "execution_count": 8,
   "metadata": {},
   "outputs": [],
   "source": [
    "text  = ' '.join(labels)"
   ]
  },
  {
   "cell_type": "code",
   "execution_count": 22,
   "metadata": {},
   "outputs": [
    {
     "output_type": "execute_result",
     "data": {
      "text/plain": [
       "44121"
      ]
     },
     "metadata": {},
     "execution_count": 22
    }
   ],
   "source": [
    "len(text)"
   ]
  },
  {
   "cell_type": "code",
   "execution_count": 23,
   "metadata": {},
   "outputs": [
    {
     "output_type": "stream",
     "name": "stdout",
     "text": [
      "('year', 0.00022927628111764223)\n('child aged', 0.00035460429955853424)\n('child', 0.0005149418382951859)\n('years', 0.0007002895108049725)\n('age', 0.0007343619568563031)\n('total raw score', 0.0007454322062674351)\n('preschool age', 0.0007988068045105667)\n('pregnancy', 0.0010464726351817307)\n('birth', 0.0011375814816710216)\n('year of birth', 0.001321297847725552)\n('pregnancy Child', 0.001417978556287107)\n('index pregnancy Maternal', 0.0014512946927198944)\n('exact age', 0.001473424619098505)\n('birth Birth year', 0.0015833540390394116)\n('years Child', 0.0016447570082330236)\n('total ADHD score', 0.0016741764085941395)\n('Total Fat intake', 0.0018256004538639424)\n('total raw', 0.001828858155057608)\n('total', 0.0020070684464099657)\n('pregnancy Maternal', 0.00210193659438389)\n"
     ]
    }
   ],
   "source": [
    "kw_extractor = yake.KeywordExtractor()\n",
    "keywords = kw_extractor.extract_keywords(text)\n",
    "\n",
    "for kw in keywords:\n",
    "\tprint(kw)"
   ]
  },
  {
   "cell_type": "code",
   "execution_count": null,
   "metadata": {},
   "outputs": [],
   "source": []
  }
 ]
}